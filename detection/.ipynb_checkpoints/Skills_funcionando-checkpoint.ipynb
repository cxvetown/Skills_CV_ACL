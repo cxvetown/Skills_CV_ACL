{
 "cells": [
  {
   "cell_type": "code",
   "execution_count": 1,
   "id": "21c71368-2bbe-4470-bb0c-5bde3607602b",
   "metadata": {},
   "outputs": [],
   "source": [
    "from tkinter import *\n",
    "from tkinter import filedialog \n",
    "from pyresparser import ResumeParser\n",
    "import os  "
   ]
  },
  {
   "cell_type": "code",
   "execution_count": 35,
   "id": "bb31524c-6a77-4b6e-8702-feeb4f837c2b",
   "metadata": {
    "scrolled": true
   },
   "outputs": [
    {
     "ename": "SyntaxError",
     "evalue": "unexpected EOF while parsing (533385060.py, line 14)",
     "output_type": "error",
     "traceback": [
      "\u001b[1;36m  Input \u001b[1;32mIn [35]\u001b[1;36m\u001b[0m\n\u001b[1;33m    \u001b[0m\n\u001b[1;37m    ^\u001b[0m\n\u001b[1;31mSyntaxError\u001b[0m\u001b[1;31m:\u001b[0m unexpected EOF while parsing\n"
     ]
    }
   ],
   "source": [
    "def browseFiles(): \n",
    "    filename = filedialog.askdirectory() \n",
    "    print(filename)\n",
    "    \n",
    "    for file in os.listdir(filename):\n",
    "        final_filename = filename +  \"/\"\n",
    "        data=ResumeParser(final_filename+file).get_extracted_data()\n",
    "\n",
    "        print('email:',data['email'])\n",
    "        print('celular:',data['mobile_number'])\n",
    "        print('num páginas',data['no_of_pages'])\n",
    "        print('habilidades:',data['skills'])\n",
    "\n",
    "        \n"
   ]
  },
  {
   "cell_type": "code",
   "execution_count": 34,
   "id": "6624e13b",
   "metadata": {},
   "outputs": [
    {
     "name": "stdout",
     "output_type": "stream",
     "text": [
      "C:/Users/sebastian/Desktop/testCV\n",
      "email: car.basaez@gmail.com\n",
      "celular: 5697786495\n",
      "num páginas 2\n",
      "habilidades: ['Java', 'Html', 'Mysql', 'Hardware', 'Oracle', 'Css', 'Sql', 'Visual', 'Python', 'Github', 'C']\n"
     ]
    },
    {
     "name": "stderr",
     "output_type": "stream",
     "text": [
      "C:\\Users\\sebastian\\anaconda3\\lib\\site-packages\\spacy\\util.py:275: UserWarning: [W031] Model 'en_training' (0.0.0) requires spaCy v2.1 and is incompatible with the current spaCy version (2.3.4). This may lead to unexpected results or runtime errors. To resolve this, download a newer compatible model or retrain your custom model with the current spaCy version. For more details and available updates, run: python -m spacy validate\n",
      "  warnings.warn(warn_msg)\n"
     ]
    },
    {
     "name": "stdout",
     "output_type": "stream",
     "text": [
      "email: se.hermosillaf@gmail.com\n",
      "celular: 569 8459518\n",
      "num páginas 3\n",
      "habilidades: ['Java', 'Scrum', 'English', 'Mis', 'Django', 'Python', 'Javascript', 'Github']\n",
      "\n",
      "error\n"
     ]
    }
   ],
   "source": [
    "window = Tk() \n",
    "   \n",
    "window.title('Explorador de archivos') \n",
    "   \n",
    "window.geometry(\"300x400\") \n",
    "   \n",
    "window.config(background = \"gray\") \n",
    "   \n",
    "label_file_explorer = Label(window,  \n",
    "                            text = \"CV  Info-Extractor\",\n",
    "                            width = 23, height = 4,\n",
    "                            font=('Poppins',16),\n",
    "                            background='gray',\n",
    "                            fg = \"white\")\n",
    "   \n",
    "       \n",
    "button_explore = Button(window,  \n",
    "                        text = \"Seleccionar carpeta\",\n",
    "                        command = browseFiles)\n",
    "                            \n",
    "\n",
    "button_exit = Button(window,  \n",
    "                     text = \"Salir\",\n",
    "                     command = exit)  \n",
    "   \n",
    "label_file_explorer.grid(column = 2, row = 1)\n",
    "\n",
    "   \n",
    "button_explore.grid(column = 1, row = 2)\n",
    "button_explore.place(relx=0.35,rely=0.5,anchor='sw')\n",
    "   \n",
    "button_exit.grid(column = 1,row = 3)\n",
    "button_exit.place(relx=0.45,rely=0.8,anchor='sw')\n",
    "   \n",
    "window.mainloop() "
   ]
  },
  {
   "cell_type": "code",
   "execution_count": null,
   "id": "d548813e",
   "metadata": {},
   "outputs": [],
   "source": []
  }
 ],
 "metadata": {
  "kernelspec": {
   "display_name": "Python 3 (ipykernel)",
   "language": "python",
   "name": "python3"
  },
  "language_info": {
   "codemirror_mode": {
    "name": "ipython",
    "version": 3
   },
   "file_extension": ".py",
   "mimetype": "text/x-python",
   "name": "python",
   "nbconvert_exporter": "python",
   "pygments_lexer": "ipython3",
   "version": "3.9.12"
  }
 },
 "nbformat": 4,
 "nbformat_minor": 5
}
