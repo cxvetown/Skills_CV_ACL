{
 "cells": [
  {
   "cell_type": "markdown",
   "id": "0b32209a",
   "metadata": {},
   "source": [
    "## Aplicación para facilitar el proceso de selección de candidatos por perfil\n",
    "\n",
    "#### Autores: Carlos Basaez - Sebastián Hermosilla \n",
    "#### Fecha de creación:    22/08/2022\n",
    "#### Última modificación: 24/08/2022"
   ]
  },
  {
   "cell_type": "code",
   "execution_count": 1,
   "id": "21c71368-2bbe-4470-bb0c-5bde3607602b",
   "metadata": {},
   "outputs": [],
   "source": [
    "from tkinter import *\n",
    "from tkinter import ttk\n",
    "import PIL.Image\n",
    "from tkinter import filedialog \n",
    "from pyresparser import ResumeParser\n",
    "import os\n",
    "\n",
    "import pandas as pd\n",
    "import json"
   ]
  },
  {
   "cell_type": "code",
   "execution_count": 2,
   "id": "a8a8ce2f",
   "metadata": {},
   "outputs": [],
   "source": [
    "#cierra la ventana\n",
    "def close():\n",
    "    window.destroy()"
   ]
  },
  {
   "cell_type": "code",
   "execution_count": 3,
   "id": "004a73d4",
   "metadata": {},
   "outputs": [],
   "source": [
    "def browseFiles(): \n",
    "     \n",
    "    \n",
    "    filename = filedialog.askdirectory() \n",
    "    \n",
    "    print(filename)\n",
    "    \n",
    "    #Iterar dentro del directorio y extraer la informacion de cada archivo\n",
    "    for file in os.listdir(filename):\n",
    "        final_filename = filename +  \"/\"\n",
    "        data=ResumeParser(final_filename+file, skills_file = get_value_combobox).get_extracted_data()\n",
    "        print(data['email'])\n",
    "        print(data['skills'])"
   ]
  },
  {
   "cell_type": "code",
   "execution_count": null,
   "id": "c9b2aded",
   "metadata": {},
   "outputs": [
    {
     "name": "stdout",
     "output_type": "stream",
     "text": [
      "C:/Users/sebastian/Desktop/Candidatos_ACL\n"
     ]
    },
    {
     "name": "stderr",
     "output_type": "stream",
     "text": [
      "Exception in Tkinter callback\n",
      "Traceback (most recent call last):\n",
      "  File \"C:\\Users\\sebastian\\anaconda3\\lib\\tkinter\\__init__.py\", line 1892, in __call__\n",
      "    return self.func(*args)\n",
      "  File \"C:\\Users\\sebastian\\AppData\\Local\\Temp\\ipykernel_1612\\2317026111.py\", line 11, in browseFiles\n",
      "    data=ResumeParser(final_filename+file, skills_file = custom_skills).get_extracted_data()\n",
      "NameError: name 'custom_skills' is not defined\n"
     ]
    }
   ],
   "source": [
    "#Crea widget de ventana\n",
    "window = Tk()\n",
    "\n",
    "#Configura fondo de pantalla principal\n",
    "bg = PhotoImage(file=\"../img/bg.png\")\n",
    "my_canvas = Canvas(window, width=1920, height=1080)\n",
    "my_canvas.pack(fill=\"both\", expand=True)\n",
    "my_canvas.create_image(0,0, image=bg, anchor=\"nw\")\n",
    "\n",
    "#Crea widget de combobox\n",
    "combobox = ttk.Combobox(window)\n",
    "\n",
    "#Configura ventana principal\n",
    "window.state('zoomed')\n",
    "#window.iconbitmap(\"../img/cv.ico\")\n",
    "window.title('Información de Curriculum Vitae') \n",
    "\n",
    "   \n",
    "#crea y configura etiqueta de nombre de aplicación    \n",
    "label_file_explorer = Label(window,  \n",
    "                            text = \"CV  Info-Extractor\",\n",
    "                            font=('Poppins',30))\n",
    "\n",
    "#crea y configura combobox para seleccionar perfil de candidato\n",
    "combo = ttk.Combobox(\n",
    "    state=\"readonly\",\n",
    "    values=[\"Perfil .net\", \"Perfil Java\", \"Perfil QA\"],\n",
    "    font=('Poppins',13),\n",
    ")\n",
    "def get_value_combobox():\n",
    "\n",
    "     if combo.get() == \"Perfil .net\":\n",
    "        return \"..\\custom_skills\\Perfil_.NET.csv\"\n",
    "\n",
    "    # if user select prova show this message \n",
    "     elif combo.get() == \"Perfil Java\":\n",
    "        return \"..\\custom_skills\\perfil_Java.csv\"\n",
    "        \n",
    "\n",
    "     # if user select ciao show this message \n",
    "     elif combo.get() == \"Perfil QA\":\n",
    "        return \"..\\custom_skills\\perfil_QA.csv\"\n",
    "\n",
    "\n",
    "\n",
    "\n",
    "#crea y configura botón de explorar archivos\n",
    "button_explore = Button(window,  \n",
    "                        text = \"Seleccionar carpeta\",\n",
    "                        font=(\"Poppins\", 13),\n",
    "                        command = browseFiles)\n",
    "\n",
    "#crea y configura botón de 'Salir'                   \n",
    "button_exit = Button(window,  \n",
    "                     text = \"Salir\",\n",
    "                     command = close,\n",
    "                     font=(\"Poppins\", 13))\n",
    "   \n",
    "label_file_explorer.place(x=950,y=100,anchor='center')\n",
    "\n",
    "#configura diseño de botón 'Seleccione directorio'\n",
    "button_explore.place(relx=0.10,rely=0.5,anchor='sw')\n",
    "\n",
    "#configurar diseño de botón 'Salir'\n",
    "button_exit.place(relx=0.10,rely=0.8,anchor='sw')\n",
    "\n",
    "#Configura posición de ComboBox y valor por defecto de combobox\n",
    "combo.place(x=188, y=300)\n",
    "combo.set('Seleccione un perfil')\n",
    "\n",
    "\n",
    "    \n",
    "window.mainloop() "
   ]
  }
 ],
 "metadata": {
  "kernelspec": {
   "display_name": "Python 3 (ipykernel)",
   "language": "python",
   "name": "python3"
  },
  "language_info": {
   "codemirror_mode": {
    "name": "ipython",
    "version": 3
   },
   "file_extension": ".py",
   "mimetype": "text/x-python",
   "name": "python",
   "nbconvert_exporter": "python",
   "pygments_lexer": "ipython3",
   "version": "3.9.12"
  }
 },
 "nbformat": 4,
 "nbformat_minor": 5
}
