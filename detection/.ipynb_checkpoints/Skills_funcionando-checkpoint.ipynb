{
 "cells": [
  {
   "cell_type": "code",
   "execution_count": 1,
   "id": "21c71368-2bbe-4470-bb0c-5bde3607602b",
   "metadata": {},
   "outputs": [],
   "source": [
    "from tkinter import *\n",
    "from tkinter import filedialog \n",
    "from pyresparser import ResumeParser\n",
    "import os  "
   ]
  },
  {
   "cell_type": "code",
   "execution_count": 2,
   "id": "bb31524c-6a77-4b6e-8702-feeb4f837c2b",
   "metadata": {},
   "outputs": [
    {
     "ename": "SyntaxError",
     "evalue": "EOL while scanning string literal (882681557.py, line 26)",
     "output_type": "error",
     "traceback": [
      "\u001b[1;36m  Input \u001b[1;32mIn [2]\u001b[1;36m\u001b[0m\n\u001b[1;33m    text = \"Seleccionar carpetas\u001b[0m\n\u001b[1;37m                                ^\u001b[0m\n\u001b[1;31mSyntaxError\u001b[0m\u001b[1;31m:\u001b[0m EOL while scanning string literal\n"
     ]
    }
   ],
   "source": [
    "def browseFiles(): \n",
    "    filename = filedialog.askdirectory() \n",
    "    print(filename)   \n",
    "    \n",
    "    for file in os.listdir(filename):\n",
    "        final_filename = filename +  \"/\"\n",
    "        data=ResumeParser(final_filename+file).get_extracted_data()\n",
    "        print(data['email'])\n",
    "        print(data['skills'])   \n",
    "                                                                                                   \n",
    "window = Tk() \n",
    "   \n",
    "window.title('File Explorer') \n",
    "   \n",
    "window.geometry(\"500x500\") \n",
    "   \n",
    "window.config(background = \"white\") \n",
    "   \n",
    "label_file_explorer = Label(window,  \n",
    "                            text = \"Seleccionar carpeta con los CV\",\n",
    "                            width = 100, height = 4,  \n",
    "                            fg = \"blue\") \n",
    "   \n",
    "       \n",
    "button_explore = Button(window,  \n",
    "                        text = \"Seleccionar carpetas\",\n",
    "                        command = browseFiles)  \n",
    "   \n",
    "button_exit = Button(window,  \n",
    "                     text = \"Exit\", \n",
    "                     command = exit)  \n",
    "   \n",
    "label_file_explorer.grid(column = 1, row = 1) \n",
    "   \n",
    "button_explore.grid(column = 1, row = 2) \n",
    "   \n",
    "button_exit.grid(column = 1,row = 3) \n",
    "   \n",
    "window.mainloop() "
   ]
  }
 ],
 "metadata": {
  "kernelspec": {
   "display_name": "Python 3 (ipykernel)",
   "language": "python",
   "name": "python3"
  },
  "language_info": {
   "codemirror_mode": {
    "name": "ipython",
    "version": 3
   },
   "file_extension": ".py",
   "mimetype": "text/x-python",
   "name": "python",
   "nbconvert_exporter": "python",
   "pygments_lexer": "ipython3",
   "version": "3.9.12"
  }
 },
 "nbformat": 4,
 "nbformat_minor": 5
}
