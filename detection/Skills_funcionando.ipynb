{
 "cells": [
  {
   "cell_type": "markdown",
   "id": "0b32209a",
   "metadata": {},
   "source": [
    "## Aplicación para facilitar el proceso de selección de candidatos por perfil\n",
    "\n",
    "#### Autores: Carlos Basaez - Sebastián Hermosilla \n",
    "#### Fecha de creación:    22/08/2022\n",
    "#### Última modificación: 24/08/2022"
   ]
  },
  {
   "cell_type": "code",
   "execution_count": 1,
   "id": "21c71368-2bbe-4470-bb0c-5bde3607602b",
   "metadata": {},
   "outputs": [],
   "source": [
    "from tkinter import *\n",
    "from tkinter import ttk\n",
    "import PIL.Image\n",
    "from tkinter import filedialog \n",
    "from pyresparser import ResumeParser\n",
    "import os\n",
    "\n",
    "import pandas as pd\n",
    "import json"
   ]
  },
  {
   "cell_type": "code",
   "execution_count": 2,
   "id": "bb31524c-6a77-4b6e-8702-feeb4f837c2b",
   "metadata": {
    "scrolled": true
   },
   "outputs": [],
   "source": [
    "def browseFiles(): \n",
    "    \n",
    "    filename = filedialog.askdirectory() \n",
    "    \n",
    "    custom_skills = filedialog.askopenfilename(initialdir = \"/\", \n",
    "                                          title = \"Selecciona skills personalizadas\", \n",
    "                                          filetypes = ((\"CSV\", \n",
    "                                                        \".csv\"), \n",
    "                                                       (\"all files\", \n",
    "                                                        \".\")))\n",
    "    \n",
    "    print(filename)\n",
    "    \n",
    "    #Iterar dentro del directorio y extraer la informacion de cada archivo\n",
    "    for file in os.listdir(filename):\n",
    "        final_filename = filename +  \"/\"\n",
    "        data=ResumeParser(final_filename+file, skills_file = custom_skills, custom_regex='/[a-z0-9]+/g').get_extracted_data()\n",
    "        print('email:',data['email'])\n",
    "        print('celular:',data['mobile_number'])\n",
    "        print('num páginas',data['no_of_pages'])\n",
    "        print('habilidades:',data['skills'])\n",
    "        #comando para expresiones regulares\n",
    "        #custom_regex=''\n",
    "        \n",
    "        json_data = json.dumps(data)\n",
    "        \n",
    "        # Set the json filename\n",
    "        jsonFile = 'json_skills_' + data['email'] + '.json'\n",
    "        # Open a json file for writing json data\n",
    "        with open(jsonFile, 'w') as fileHandler1:\n",
    "          json.dump(data, fileHandler1, indent = 2)\n",
    "\n",
    "        # Open a json file for reading\n",
    "        fileHandler2 = open(jsonFile)\n",
    "        "
   ]
  },
  {
   "cell_type": "code",
   "execution_count": 3,
   "id": "90b3959e",
   "metadata": {},
   "outputs": [],
   "source": [
    "#cierra la ventana\n",
    "def close():\n",
    "    window.destroy()"
   ]
  },
  {
   "cell_type": "code",
   "execution_count": 4,
   "id": "536bea9b",
   "metadata": {},
   "outputs": [
    {
     "name": "stdout",
     "output_type": "stream",
     "text": [
      "C:/Users/carli/Downloads/cv\n"
     ]
    },
    {
     "name": "stderr",
     "output_type": "stream",
     "text": [
      "F:\\Anaconda\\lib\\site-packages\\spacy\\util.py:275: UserWarning: [W031] Model 'en_training' (0.0.0) requires spaCy v2.1 and is incompatible with the current spaCy version (2.3.5). This may lead to unexpected results or runtime errors. To resolve this, download a newer compatible model or retrain your custom model with the current spaCy version. For more details and available updates, run: python -m spacy validate\n",
      "  warnings.warn(warn_msg)\n"
     ]
    },
    {
     "name": "stdout",
     "output_type": "stream",
     "text": [
      "email: nonkor@gmail.com\n",
      "celular: None\n",
      "num páginas 4\n",
      "habilidades: ['Database', 'Automation', 'Linux', 'Json', 'Selenium', 'Ubuntu', 'Programming', 'Ruby', 'Api', 'Windows', 'Html', 'Math', 'Postgresql', 'Rest', 'Magic', 'Writing', 'Jira', 'Xml', 'Process', 'Video', 'Requests', 'C++', 'Website', 'Analysis', 'Analytical', 'Mobile', 'Yaml', 'Agile', 'English', 'Fabrication', 'Sublime', 'Js', 'System', 'Workflow', 'Os', 'Architecture', 'Markdown', 'Testing', 'Engineering', 'Scrum']\n"
     ]
    },
    {
     "name": "stderr",
     "output_type": "stream",
     "text": [
      "Exception in Tkinter callback\n",
      "Traceback (most recent call last):\n",
      "  File \"F:\\Anaconda\\lib\\tkinter\\__init__.py\", line 1892, in __call__\n",
      "    return self.func(*args)\n",
      "  File \"C:\\Users\\carli\\AppData\\Local\\Temp\\ipykernel_11300\\2114142459.py\", line 38, in browseFiles\n",
      "    df = pd.read_json('json_skills_' + data['email'] + '.json')\n",
      "  File \"F:\\Anaconda\\lib\\site-packages\\pandas\\util\\_decorators.py\", line 207, in wrapper\n",
      "    return func(*args, **kwargs)\n",
      "  File \"F:\\Anaconda\\lib\\site-packages\\pandas\\util\\_decorators.py\", line 311, in wrapper\n",
      "    return func(*args, **kwargs)\n",
      "  File \"F:\\Anaconda\\lib\\site-packages\\pandas\\io\\json\\_json.py\", line 612, in read_json\n",
      "    return json_reader.read()\n",
      "  File \"F:\\Anaconda\\lib\\site-packages\\pandas\\io\\json\\_json.py\", line 746, in read\n",
      "    obj = self._get_object_parser(self.data)\n",
      "  File \"F:\\Anaconda\\lib\\site-packages\\pandas\\io\\json\\_json.py\", line 768, in _get_object_parser\n",
      "    obj = FrameParser(json, **kwargs).parse()\n",
      "  File \"F:\\Anaconda\\lib\\site-packages\\pandas\\io\\json\\_json.py\", line 880, in parse\n",
      "    self._parse_no_numpy()\n",
      "  File \"F:\\Anaconda\\lib\\site-packages\\pandas\\io\\json\\_json.py\", line 1132, in _parse_no_numpy\n",
      "    self.obj = DataFrame(\n",
      "  File \"F:\\Anaconda\\lib\\site-packages\\pandas\\core\\frame.py\", line 636, in __init__\n",
      "    mgr = dict_to_mgr(data, index, columns, dtype=dtype, copy=copy, typ=manager)\n",
      "  File \"F:\\Anaconda\\lib\\site-packages\\pandas\\core\\internals\\construction.py\", line 502, in dict_to_mgr\n",
      "    return arrays_to_mgr(arrays, columns, index, dtype=dtype, typ=typ, consolidate=copy)\n",
      "  File \"F:\\Anaconda\\lib\\site-packages\\pandas\\core\\internals\\construction.py\", line 120, in arrays_to_mgr\n",
      "    index = _extract_index(arrays)\n",
      "  File \"F:\\Anaconda\\lib\\site-packages\\pandas\\core\\internals\\construction.py\", line 674, in _extract_index\n",
      "    raise ValueError(\"All arrays must be of the same length\")\n",
      "ValueError: All arrays must be of the same length\n"
     ]
    }
   ],
   "source": [
    "#Crea widget de ventana\n",
    "window = Tk()\n",
    "\n",
    "#Configura fondo de pantalla principal\n",
    "bg = PhotoImage(file=\"../img/bg.png\")\n",
    "my_canvas = Canvas(window, width=1920, height=1080)\n",
    "my_canvas.pack(fill=\"both\", expand=True)\n",
    "my_canvas.create_image(0,0, image=bg, anchor=\"nw\")\n",
    "\n",
    "#Crea widget de combobox\n",
    "combobox = ttk.Combobox(window)\n",
    "\n",
    "#Configura ventana principal\n",
    "window.state('zoomed')\n",
    "#window.iconbitmap(\"../img/cv.ico\")\n",
    "window.title('Información de Curriculum Vitae') \n",
    "\n",
    "   \n",
    "#crea y configura etiqueta de nombre de aplicación    \n",
    "label_file_explorer = Label(window,  \n",
    "                            text = \"CV  Info-Extractor\",\n",
    "                            font=('Poppins',30))\n",
    "\n",
    "#crea y configura combobox para seleccionar perfil de candidato\n",
    "combo = ttk.Combobox(\n",
    "    state=\"readonly\",\n",
    "    values=[\"Perfil .net\", \"Perfil Java\", \"Perfil QA\"],\n",
    "    font=('Poppins',13),\n",
    ")\n",
    "\n",
    "\n",
    "\n",
    "\n",
    "#crea y configura botón de explorar archivos\n",
    "button_explore = Button(window,  \n",
    "                        text = \"Seleccionar carpeta\",\n",
    "                        font=(\"Poppins\", 13),\n",
    "                        command = browseFiles)\n",
    "\n",
    "#crea y configura botón de 'Salir'                   \n",
    "button_exit = Button(window,  \n",
    "                     text = \"Salir\",\n",
    "                     command = close,\n",
    "                     font=(\"Poppins\", 13))\n",
    "   \n",
    "label_file_explorer.place(x=950,y=100,anchor='center')\n",
    "\n",
    "#configura diseño de botón 'Seleccione directorio'\n",
    "button_explore.place(relx=0.10,rely=0.5,anchor='sw')\n",
    "\n",
    "#configurar diseño de botón 'Salir'\n",
    "button_exit.place(relx=0.10,rely=0.8,anchor='sw')\n",
    "\n",
    "#Configura posición de ComboBox y valor por defecto de combobox\n",
    "combo.place(x=188, y=300)\n",
    "combo.set('Seleccione un perfil')\n",
    "\n",
    "\n",
    "   \n",
    "window.mainloop() "
   ]
  },
  {
   "cell_type": "code",
   "execution_count": null,
   "id": "3e6caf46-f834-44bc-a769-d4bd8acbc75f",
   "metadata": {},
   "outputs": [],
   "source": []
  },
  {
   "cell_type": "code",
   "execution_count": null,
   "id": "a4c8efd8-f2b0-4f16-95f4-c53b8e3f0ef4",
   "metadata": {},
   "outputs": [],
   "source": []
  },
  {
   "cell_type": "code",
   "execution_count": null,
   "id": "21805086-e2c7-403a-b89e-aeec2d0b8d19",
   "metadata": {},
   "outputs": [],
   "source": []
  }
 ],
 "metadata": {
  "kernelspec": {
   "display_name": "Python 3 (ipykernel)",
   "language": "python",
   "name": "python3"
  },
  "language_info": {
   "codemirror_mode": {
    "name": "ipython",
    "version": 3
   },
   "file_extension": ".py",
   "mimetype": "text/x-python",
   "name": "python",
   "nbconvert_exporter": "python",
   "pygments_lexer": "ipython3",
   "version": "3.9.12"
  }
 },
 "nbformat": 4,
 "nbformat_minor": 5
}
