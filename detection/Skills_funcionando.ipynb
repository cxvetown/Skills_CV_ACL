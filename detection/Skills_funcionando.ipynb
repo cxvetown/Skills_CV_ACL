{
 "cells": [
  {
   "cell_type": "code",
   "execution_count": 1,
   "id": "21c71368-2bbe-4470-bb0c-5bde3607602b",
   "metadata": {},
   "outputs": [],
   "source": [
    "from tkinter import *\n",
    "from tkinter import filedialog \n",
    "from pyresparser import ResumeParser\n",
    "import os  "
   ]
  },
  {
   "cell_type": "code",
   "execution_count": 2,
   "id": "bb31524c-6a77-4b6e-8702-feeb4f837c2b",
   "metadata": {
    "scrolled": true
   },
   "outputs": [],
   "source": [
    "\n",
    "def browseFiles(): \n",
    "    filename = filedialog.askdirectory() \n",
    "    \n",
    "    custom_skills = filedialog.askopenfilename(initialdir = \"/\", \n",
    "                                          title = \"Selecciona skills personalizadas\", \n",
    "                                          filetypes = ((\"CSV\", \n",
    "                                                        \".csv\"), \n",
    "                                                       (\"all files\", \n",
    "                                                        \".\")))\n",
    "    \n",
    "    print(filename)\n",
    "    \n",
    "    for file in os.listdir(filename):\n",
    "        final_filename = filename +  \"/\"\n",
    "        data=ResumeParser(final_filename+file, skills_file = custom_skills).get_extracted_data()\n",
    "        print('email:',data['email'])\n",
    "        print('celular:',data['mobile_number'])\n",
    "        print('num páginas',data['no_of_pages'])\n",
    "        print('habilidades:',data['skills'])\n",
    "    "
   ]
  },
  {
   "cell_type": "code",
   "execution_count": 3,
   "id": "90b3959e",
   "metadata": {},
   "outputs": [],
   "source": [
    "def close():\n",
    "    window.destroy()"
   ]
  },
  {
   "cell_type": "code",
   "execution_count": 4,
   "id": "effaad8f",
   "metadata": {},
   "outputs": [],
   "source": [
    "def center_window():\n",
    "        width = window.winfo_width()\n",
    "        height = window.winfo_height()\n",
    "        x = (window.winfo_screenwidth() // 3) - (width // 2)\n",
    "        y = (window.winfo_screenheight() // 2) - (height // 2)\n",
    "        window.geometry('{}x{}+{}+{}'.format(width, height, x, y))"
   ]
  },
  {
   "cell_type": "code",
   "execution_count": 5,
   "id": "536bea9b",
   "metadata": {},
   "outputs": [],
   "source": [
    "window = Tk() \n",
    "\n",
    "center_window()\n",
    "   \n",
    "window.title('Explorador de archivos') \n",
    "   \n",
    "window.geometry(\"300x400\") \n",
    "   \n",
    "window.config(background = \"gray\") \n",
    "   \n",
    "label_file_explorer = Label(window,  \n",
    "                            text = \"CV  Info-Extractor\",\n",
    "                            width = 23, height = 4,\n",
    "                            font=('Poppins',16),\n",
    "                            background='gray',\n",
    "                            fg = \"white\")\n",
    "   \n",
    "       \n",
    "button_explore = Button(window,  \n",
    "                        text = \"Seleccionar carpeta\",\n",
    "                        command = browseFiles)\n",
    "                    \n",
    "button_exit = Button(window,  \n",
    "                     text = \"Salir\",\n",
    "                     command = close)\n",
    "   \n",
    "label_file_explorer.grid(column = 2, row = 1)\n",
    "\n",
    "   \n",
    "button_explore.grid(column = 1, row = 2)\n",
    "button_explore.place(relx=0.35,rely=0.5,anchor='sw')\n",
    "   \n",
    "button_exit.grid(column = 1,row = 3)\n",
    "button_exit.place(relx=0.45,rely=0.8,anchor='sw')\n",
    "   \n",
    "window.mainloop() "
   ]
  },
  {
   "cell_type": "code",
   "execution_count": null,
   "id": "37e9fab5",
   "metadata": {},
   "outputs": [],
   "source": []
  }
 ],
 "metadata": {
  "kernelspec": {
   "display_name": "Python 3 (ipykernel)",
   "language": "python",
   "name": "python3"
  },
  "language_info": {
   "codemirror_mode": {
    "name": "ipython",
    "version": 3
   },
   "file_extension": ".py",
   "mimetype": "text/x-python",
   "name": "python",
   "nbconvert_exporter": "python",
   "pygments_lexer": "ipython3",
   "version": "3.9.12"
  }
 },
 "nbformat": 4,
 "nbformat_minor": 5
}
