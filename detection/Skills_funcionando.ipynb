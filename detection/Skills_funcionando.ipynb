{
 "cells": [
  {
   "cell_type": "code",
   "execution_count": 1,
   "id": "21c71368-2bbe-4470-bb0c-5bde3607602b",
   "metadata": {},
   "outputs": [],
   "source": [
    "from tkinter import *\n",
    "from tkinter import filedialog \n",
    "from pyresparser import ResumeParser\n",
    "import os  "
   ]
  },
  {
   "cell_type": "code",
   "execution_count": 2,
   "id": "bb31524c-6a77-4b6e-8702-feeb4f837c2b",
   "metadata": {},
   "outputs": [
    {
     "name": "stdout",
     "output_type": "stream",
     "text": [
      "C:/Users/carli/Downloads/cv\n"
     ]
    },
    {
     "name": "stderr",
     "output_type": "stream",
     "text": [
      "F:\\Anaconda\\lib\\site-packages\\spacy\\util.py:275: UserWarning: [W031] Model 'en_training' (0.0.0) requires spaCy v2.1 and is incompatible with the current spaCy version (2.3.5). This may lead to unexpected results or runtime errors. To resolve this, download a newer compatible model or retrain your custom model with the current spaCy version. For more details and available updates, run: python -m spacy validate\n",
      "  warnings.warn(warn_msg)\n"
     ]
    },
    {
     "name": "stdout",
     "output_type": "stream",
     "text": [
      "s.hermosilla@acl.cl\n",
      "['Java', 'Python', 'Django', 'Javascript', 'English', 'Scrum', 'Github']\n"
     ]
    },
    {
     "name": "stderr",
     "output_type": "stream",
     "text": [
      "F:\\Anaconda\\lib\\site-packages\\spacy\\util.py:275: UserWarning: [W031] Model 'en_training' (0.0.0) requires spaCy v2.1 and is incompatible with the current spaCy version (2.3.5). This may lead to unexpected results or runtime errors. To resolve this, download a newer compatible model or retrain your custom model with the current spaCy version. For more details and available updates, run: python -m spacy validate\n",
      "  warnings.warn(warn_msg)\n"
     ]
    },
    {
     "name": "stdout",
     "output_type": "stream",
     "text": [
      "car.basaez@gmail.com\n",
      "['Java', 'Python', 'Html', 'Hardware', 'Css', 'Mysql', 'Oracle', 'Github', 'Sql', 'Visual', 'C']\n"
     ]
    },
    {
     "name": "stderr",
     "output_type": "stream",
     "text": [
      "F:\\Anaconda\\lib\\site-packages\\spacy\\util.py:275: UserWarning: [W031] Model 'en_training' (0.0.0) requires spaCy v2.1 and is incompatible with the current spaCy version (2.3.5). This may lead to unexpected results or runtime errors. To resolve this, download a newer compatible model or retrain your custom model with the current spaCy version. For more details and available updates, run: python -m spacy validate\n",
      "  warnings.warn(warn_msg)\n"
     ]
    },
    {
     "name": "stdout",
     "output_type": "stream",
     "text": [
      "linda.h@dayjob.co.uk\n",
      "['Installation', 'Process', 'Communication', 'Email', 'Writing', 'Lifecycle', 'Plan', 'Investigation', 'Reporting', 'Information technology', 'Documentation', 'Testing', 'Improvement', 'Updates', 'Hardware', 'German', 'Engineering', 'Strategy', 'Reports', 'Repairs', 'English', 'Test cases', 'Mobile', 'Technical', 'Agile', 'C', 'Certification']\n"
     ]
    }
   ],
   "source": [
    "def browseFiles(): \n",
    "    filename = filedialog.askdirectory() \n",
    "    print(filename)   \n",
    "    \n",
    "    for file in os.listdir(filename):\n",
    "        final_filename = filename +  \"/\"\n",
    "        data=ResumeParser(final_filename+file).get_extracted_data()\n",
    "        print(data['email'])\n",
    "        print(data['skills'])   \n",
    "                                                                                                   \n",
    "window = Tk() \n",
    "   \n",
    "window.title('File Explorer') \n",
    "   \n",
    "window.geometry(\"500x500\") \n",
    "   \n",
    "window.config(background = \"white\") \n",
    "   \n",
    "label_file_explorer = Label(window,  \n",
    "                            text = \"Seleccionar carpeta con los CV\",\n",
    "                            width = 100, height = 4,  \n",
    "                            fg = \"blue\") \n",
    "   \n",
    "       \n",
    "button_explore = Button(window,  \n",
    "                        text = \"Seleccionar carpetas\",\n",
    "                        command = browseFiles)  \n",
    "   \n",
    "button_exit = Button(window,  \n",
    "                     text = \"Exit\", \n",
    "                     command = exit)  \n",
    "   \n",
    "label_file_explorer.grid(column = 1, row = 1) \n",
    "   \n",
    "button_explore.grid(column = 1, row = 2) \n",
    "   \n",
    "button_exit.grid(column = 1,row = 3) \n",
    "   \n",
    "window.mainloop() "
   ]
  }
 ],
 "metadata": {
  "kernelspec": {
   "display_name": "Python 3 (ipykernel)",
   "language": "python",
   "name": "python3"
  },
  "language_info": {
   "codemirror_mode": {
    "name": "ipython",
    "version": 3
   },
   "file_extension": ".py",
   "mimetype": "text/x-python",
   "name": "python",
   "nbconvert_exporter": "python",
   "pygments_lexer": "ipython3",
   "version": "3.9.12"
  }
 },
 "nbformat": 4,
 "nbformat_minor": 5
}
