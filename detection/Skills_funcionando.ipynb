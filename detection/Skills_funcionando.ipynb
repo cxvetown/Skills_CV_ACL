{
 "cells": [
  {
   "cell_type": "markdown",
   "id": "0b32209a",
   "metadata": {},
   "source": [
    "## Aplicación para facilitar el proceso de selección de candidatos por perfil\n",
    "\n",
    "#### Autores: Carlos Basaez - Sebastián Hermosilla \n",
    "#### Fecha de creación:    22/08/2022\n",
    "#### Última modificación: 24/08/2022"
   ]
  },
  {
   "cell_type": "code",
   "execution_count": 1,
   "id": "21c71368-2bbe-4470-bb0c-5bde3607602b",
   "metadata": {},
   "outputs": [],
   "source": [
    "from tkinter import *\n",
    "from tkinter import ttk\n",
    "import PIL.Image\n",
    "from tkinter import filedialog \n",
    "from pyresparser import ResumeParser\n",
    "import os\n",
    "import pandas as pd\n",
    "import json"
   ]
  },
  {
   "cell_type": "code",
   "execution_count": 2,
   "id": "a8a8ce2f",
   "metadata": {},
   "outputs": [],
   "source": [
    "#cierra la ventana\n",
    "def close():\n",
    "    window.destroy()"
   ]
  },
  {
   "cell_type": "code",
   "execution_count": 3,
   "id": "004a73d4",
   "metadata": {
    "scrolled": true
   },
   "outputs": [],
   "source": [
    "def browseFiles(): \n",
    "    filename = filedialog.askdirectory() \n",
    "    data_final = {}\n",
    "    for file in os.listdir(filename):\n",
    "        final_filename = filename +  \"/\"\n",
    "        data=ResumeParser(final_filename+file, skills_file = get_value_combobox()).get_extracted_data()\n",
    "        \n",
    "        data_final[data['email']] = data['skills']        \n",
    "        json_data = json.dumps(data_final)\n",
    "        jsonFile = 'json_skills.json'\n",
    "        print(data_final)\n",
    "        \n",
    "        with open(jsonFile, 'w') as fileHandler1:\n",
    "            json.dump(data_final, fileHandler1, indent = 2)\n",
    "            fileHandler2 = open(jsonFile)"
   ]
  },
  {
   "cell_type": "code",
   "execution_count": 4,
   "id": "0cbca6a9",
   "metadata": {},
   "outputs": [],
   "source": [
    "def read_json_pandas():\n",
    "    path = 'json_skills.json'\n",
    "    result = os.path.exists(path)\n",
    "    if result:\n",
    "        with open(path) as f:\n",
    "            data = json.load(f)\n",
    "            df = pd.read_json(path,orient='index')\n",
    "            print(df)\n",
    "    else:\n",
    "        print('El archivo json no ha sido generado') \n",
    "    "
   ]
  },
  {
   "cell_type": "code",
   "execution_count": null,
   "id": "c9b2aded",
   "metadata": {
    "scrolled": true
   },
   "outputs": [
    {
     "name": "stderr",
     "output_type": "stream",
     "text": [
      "C:\\Users\\sebastian\\anaconda3\\lib\\site-packages\\spacy\\util.py:275: UserWarning: [W031] Model 'en_training' (0.0.0) requires spaCy v2.1 and is incompatible with the current spaCy version (2.3.4). This may lead to unexpected results or runtime errors. To resolve this, download a newer compatible model or retrain your custom model with the current spaCy version. For more details and available updates, run: python -m spacy validate\n",
      "  warnings.warn(warn_msg)\n"
     ]
    },
    {
     "name": "stdout",
     "output_type": "stream",
     "text": [
      "{'nonkor@gmail.com': []}\n"
     ]
    },
    {
     "name": "stderr",
     "output_type": "stream",
     "text": [
      "C:\\Users\\sebastian\\anaconda3\\lib\\site-packages\\spacy\\util.py:275: UserWarning: [W031] Model 'en_training' (0.0.0) requires spaCy v2.1 and is incompatible with the current spaCy version (2.3.4). This may lead to unexpected results or runtime errors. To resolve this, download a newer compatible model or retrain your custom model with the current spaCy version. For more details and available updates, run: python -m spacy validate\n",
      "  warnings.warn(warn_msg)\n"
     ]
    },
    {
     "name": "stdout",
     "output_type": "stream",
     "text": [
      "{'nonkor@gmail.com': [], 'lcordova@acl.cl': ['C#', '.net', 'Sql server']}\n"
     ]
    },
    {
     "name": "stderr",
     "output_type": "stream",
     "text": [
      "C:\\Users\\sebastian\\anaconda3\\lib\\site-packages\\spacy\\util.py:275: UserWarning: [W031] Model 'en_training' (0.0.0) requires spaCy v2.1 and is incompatible with the current spaCy version (2.3.4). This may lead to unexpected results or runtime errors. To resolve this, download a newer compatible model or retrain your custom model with the current spaCy version. For more details and available updates, run: python -m spacy validate\n",
      "  warnings.warn(warn_msg)\n"
     ]
    },
    {
     "name": "stdout",
     "output_type": "stream",
     "text": [
      "{'nonkor@gmail.com': [], 'lcordova@acl.cl': ['C#', '.net', 'Sql server'], 'car.basaez@gmail.com': []}\n"
     ]
    },
    {
     "name": "stderr",
     "output_type": "stream",
     "text": [
      "C:\\Users\\sebastian\\anaconda3\\lib\\site-packages\\spacy\\util.py:275: UserWarning: [W031] Model 'en_training' (0.0.0) requires spaCy v2.1 and is incompatible with the current spaCy version (2.3.4). This may lead to unexpected results or runtime errors. To resolve this, download a newer compatible model or retrain your custom model with the current spaCy version. For more details and available updates, run: python -m spacy validate\n",
      "  warnings.warn(warn_msg)\n"
     ]
    },
    {
     "name": "stdout",
     "output_type": "stream",
     "text": [
      "{'nonkor@gmail.com': [], 'lcordova@acl.cl': ['C#', '.net', 'Sql server'], 'car.basaez@gmail.com': [], 'se.hermosillaf@gmail.com': []}\n",
      "                             0     1           2\n",
      "nonkor@gmail.com          None  None        None\n",
      "lcordova@acl.cl             C#  .net  Sql server\n",
      "car.basaez@gmail.com      None  None        None\n",
      "se.hermosillaf@gmail.com  None  None        None\n"
     ]
    }
   ],
   "source": [
    "#Crea widget de ventana\n",
    "window = Tk()\n",
    "\n",
    "#Configura fondo de pantalla principal\n",
    "bg = PhotoImage(file=\"../img/bg.png\")\n",
    "canvas = Canvas(window, width=1920, height=1080)\n",
    "canvas.pack(fill=\"both\", expand=True)\n",
    "canvas.create_image(0,0, image=bg, anchor=\"nw\")\n",
    "\n",
    "#Crea widget de combobox\n",
    "combobox = ttk.Combobox(window)\n",
    "\n",
    "#Configura ventana principal\n",
    "window.state('zoomed')\n",
    "#window.iconbitmap(\"../img/cv.ico\")\n",
    "window.title('Información de Curriculum Vitae') \n",
    "\n",
    "   \n",
    "#crea y configura etiqueta de nombre de aplicación    \n",
    "label_file_explorer = Label(window,  \n",
    "                            text = \"CV  Info-Extractor\",\n",
    "                            font=('Poppins',30))\n",
    "\n",
    "#crea y configura combobox para seleccionar perfil de candidato\n",
    "combobox_title = Label(window,\n",
    "                           text=\"Seleccione perfil\",\n",
    "                           font=('Poppins',13))\n",
    "\n",
    "combo = ttk.Combobox(\n",
    "    state=\"readonly\",\n",
    "    values=[\"Por defecto\",\"Perfil .NET\", \"Perfil Java\", \"Perfil QA\"],\n",
    "    font=('Poppins',13),\n",
    ")\n",
    "#setea valor inicial por el indice 0\n",
    "combo.current(0)\n",
    "\n",
    "#devuelve la ruta del archivo CSV según el perfil seleccionado\n",
    "def get_value_combobox():\n",
    "    \n",
    "\n",
    "    if combo.get() == \"Perfil .NET\":\n",
    "        return \"../custom_skills/Perfil_.NET.csv\"\n",
    "\n",
    "    elif combo.get() == \"Perfil Java\":\n",
    "        return \"../custom_skills/perfil_Java.csv\"\n",
    "        \n",
    "    elif combo.get() == \"Perfil QA\":\n",
    "        return \"../custom_skills/perfil_QA.csv\"\n",
    "    \n",
    "    elif combo.get() == 'Por defecto':\n",
    "        return ''\n",
    "    \n",
    "    else: return ''\n",
    "    \n",
    "    \n",
    "\n",
    "#crea y configura botón de explorar archivos\n",
    "button_explore = Button(window,  \n",
    "                        text = \"Seleccionar carpeta\",\n",
    "                        font=(\"Poppins\", 13),\n",
    "                        command = browseFiles)\n",
    "\n",
    "#crea y configura botón de 'Salir'                   \n",
    "button_exit = Button(window,  \n",
    "                     text = \"Salir\",\n",
    "                     command = close,\n",
    "                     font=(\"Poppins\", 13))\n",
    "\n",
    "\n",
    "#crea y configura botón de 'Generar metricas'                   \n",
    "button_metrics = Button(window,  \n",
    "                     text = \"Generar metricas\",\n",
    "                     command = read_json_pandas,\n",
    "                     font=(\"Poppins\", 13))\n",
    "\n",
    "label_file_explorer.place(x=950,y=100,anchor='center')\n",
    "\n",
    "#configura diseño de botón 'Seleccione directorio'\n",
    "button_explore.place(relx=0.10,rely=0.5,anchor='sw')\n",
    "\n",
    "#configurar diseño de botón 'Salir'\n",
    "button_exit.place(relx=0.10,rely=0.8,anchor='sw')\n",
    "\n",
    "#configura diseño de botón 'Generar metricas'\n",
    "button_metrics.place(relx=0.10,rely=0.6,anchor='sw')\n",
    "\n",
    "#Configura posición de ComboBox y valor por defecto de combobox\n",
    "combo.place(x=188, y=300)\n",
    "combobox_title.place(x=330, y=200,anchor='ne')\n",
    "    \n",
    "window.mainloop() "
   ]
  }
 ],
 "metadata": {
  "kernelspec": {
   "display_name": "Python 3 (ipykernel)",
   "language": "python",
   "name": "python3"
  },
  "language_info": {
   "codemirror_mode": {
    "name": "ipython",
    "version": 3
   },
   "file_extension": ".py",
   "mimetype": "text/x-python",
   "name": "python",
   "nbconvert_exporter": "python",
   "pygments_lexer": "ipython3",
   "version": "3.9.12"
  }
 },
 "nbformat": 4,
 "nbformat_minor": 5
}
